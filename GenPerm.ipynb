{
 "cells": [
  {
   "cell_type": "code",
   "execution_count": 1,
   "id": "initial_id",
   "metadata": {
    "collapsed": true,
    "ExecuteTime": {
     "end_time": "2023-11-22T08:04:16.082924156Z",
     "start_time": "2023-11-22T08:04:15.552363610Z"
    }
   },
   "outputs": [
    {
     "ename": "FileNotFoundError",
     "evalue": "[Errno 2] No such file or directory: 'edge_pairs.txt'",
     "output_type": "error",
     "traceback": [
      "\u001B[0;31m---------------------------------------------------------------------------\u001B[0m",
      "\u001B[0;31mFileNotFoundError\u001B[0m                         Traceback (most recent call last)",
      "Cell \u001B[0;32mIn[1], line 4\u001B[0m\n\u001B[1;32m      1\u001B[0m \u001B[38;5;28;01mimport\u001B[39;00m \u001B[38;5;21;01mnetworkx\u001B[39;00m \u001B[38;5;28;01mas\u001B[39;00m \u001B[38;5;21;01mnx\u001B[39;00m\n\u001B[1;32m      3\u001B[0m \u001B[38;5;66;03m# Read the network data\u001B[39;00m\n\u001B[0;32m----> 4\u001B[0m G \u001B[38;5;241m=\u001B[39m \u001B[43mnx\u001B[49m\u001B[38;5;241;43m.\u001B[39;49m\u001B[43mread_edgelist\u001B[49m\u001B[43m(\u001B[49m\u001B[38;5;124;43m'\u001B[39;49m\u001B[38;5;124;43medge_pairs.txt\u001B[39;49m\u001B[38;5;124;43m'\u001B[39;49m\u001B[43m,\u001B[49m\u001B[43m \u001B[49m\u001B[43mnodetype\u001B[49m\u001B[38;5;241;43m=\u001B[39;49m\u001B[38;5;28;43mint\u001B[39;49m\u001B[43m)\u001B[49m\n\u001B[1;32m      6\u001B[0m \u001B[38;5;28;01mdef\u001B[39;00m \u001B[38;5;21mcalculate_permanence\u001B[39m(G, communities):\n\u001B[1;32m      7\u001B[0m     total_permanence \u001B[38;5;241m=\u001B[39m \u001B[38;5;241m0\u001B[39m\n",
      "File \u001B[0;32m~/.local/lib/python3.10/site-packages/networkx/utils/decorators.py:770\u001B[0m, in \u001B[0;36margmap.__call__.<locals>.func\u001B[0;34m(_argmap__wrapper, *args, **kwargs)\u001B[0m\n\u001B[1;32m    769\u001B[0m \u001B[38;5;28;01mdef\u001B[39;00m \u001B[38;5;21mfunc\u001B[39m(\u001B[38;5;241m*\u001B[39margs, __wrapper\u001B[38;5;241m=\u001B[39m\u001B[38;5;28;01mNone\u001B[39;00m, \u001B[38;5;241m*\u001B[39m\u001B[38;5;241m*\u001B[39mkwargs):\n\u001B[0;32m--> 770\u001B[0m     \u001B[38;5;28;01mreturn\u001B[39;00m \u001B[43margmap\u001B[49m\u001B[38;5;241;43m.\u001B[39;49m\u001B[43m_lazy_compile\u001B[49m\u001B[43m(\u001B[49m\u001B[43m__wrapper\u001B[49m\u001B[43m)\u001B[49m\u001B[43m(\u001B[49m\u001B[38;5;241;43m*\u001B[39;49m\u001B[43margs\u001B[49m\u001B[43m,\u001B[49m\u001B[43m \u001B[49m\u001B[38;5;241;43m*\u001B[39;49m\u001B[38;5;241;43m*\u001B[39;49m\u001B[43mkwargs\u001B[49m\u001B[43m)\u001B[49m\n",
      "File \u001B[0;32m<class 'networkx.utils.decorators.argmap'> compilation 5:3\u001B[0m, in \u001B[0;36margmap_read_edgelist_1\u001B[0;34m(path, comments, delimiter, create_using, nodetype, data, edgetype, encoding, backend, **backend_kwargs)\u001B[0m\n\u001B[1;32m      1\u001B[0m \u001B[38;5;28;01mimport\u001B[39;00m \u001B[38;5;21;01mbz2\u001B[39;00m\n\u001B[1;32m      2\u001B[0m \u001B[38;5;28;01mimport\u001B[39;00m \u001B[38;5;21;01mcollections\u001B[39;00m\n\u001B[0;32m----> 3\u001B[0m \u001B[38;5;28;01mimport\u001B[39;00m \u001B[38;5;21;01mgzip\u001B[39;00m\n\u001B[1;32m      4\u001B[0m \u001B[38;5;28;01mimport\u001B[39;00m \u001B[38;5;21;01minspect\u001B[39;00m\n\u001B[1;32m      5\u001B[0m \u001B[38;5;28;01mimport\u001B[39;00m \u001B[38;5;21;01mitertools\u001B[39;00m\n",
      "File \u001B[0;32m~/.local/lib/python3.10/site-packages/networkx/utils/decorators.py:193\u001B[0m, in \u001B[0;36mopen_file.<locals>._open_file\u001B[0;34m(path)\u001B[0m\n\u001B[1;32m    189\u001B[0m \u001B[38;5;28;01melse\u001B[39;00m:\n\u001B[1;32m    190\u001B[0m     \u001B[38;5;66;03m# could be None, or a file handle, in which case the algorithm will deal with it\u001B[39;00m\n\u001B[1;32m    191\u001B[0m     \u001B[38;5;28;01mreturn\u001B[39;00m path, \u001B[38;5;28;01mlambda\u001B[39;00m: \u001B[38;5;28;01mNone\u001B[39;00m\n\u001B[0;32m--> 193\u001B[0m fobj \u001B[38;5;241m=\u001B[39m \u001B[43m_dispatch_dict\u001B[49m\u001B[43m[\u001B[49m\u001B[43mext\u001B[49m\u001B[43m]\u001B[49m\u001B[43m(\u001B[49m\u001B[43mpath\u001B[49m\u001B[43m,\u001B[49m\u001B[43m \u001B[49m\u001B[43mmode\u001B[49m\u001B[38;5;241;43m=\u001B[39;49m\u001B[43mmode\u001B[49m\u001B[43m)\u001B[49m\n\u001B[1;32m    194\u001B[0m \u001B[38;5;28;01mreturn\u001B[39;00m fobj, \u001B[38;5;28;01mlambda\u001B[39;00m: fobj\u001B[38;5;241m.\u001B[39mclose()\n",
      "\u001B[0;31mFileNotFoundError\u001B[0m: [Errno 2] No such file or directory: 'edge_pairs.txt'"
     ]
    }
   ],
   "source": [
    "import networkx as nx\n",
    "\n",
    "# Read the network data\n",
    "G = nx.read_edgelist('edge_pairs.txt', nodetype=int)\n",
    "\n",
    "def calculate_permanence(G, communities):\n",
    "    total_permanence = 0\n",
    "\n",
    "    for node in G.nodes():\n",
    "        internal_edges = 0\n",
    "        external_edges = 0\n",
    "        node_community = communities[node]\n",
    "\n",
    "        for neighbor in G.neighbors(node):\n",
    "            if communities[neighbor] == node_community:\n",
    "                internal_edges += 1\n",
    "            else:\n",
    "                external_edges += 1\n",
    "\n",
    "        node_permanence = 0\n",
    "        if internal_edges + external_edges > 0:\n",
    "            node_permanence = internal_edges / (internal_edges + external_edges)\n",
    "\n",
    "        total_permanence += node_permanence\n",
    "\n",
    "    return total_permanence\n",
    "\n",
    "def genperm_algorithm(G):\n",
    "    # Initialize each node to its own community\n",
    "    communities = {node: node for node in G.nodes()}\n",
    "\n",
    "    # Iteratively optimize communities\n",
    "    improved = True\n",
    "    while improved:\n",
    "        improved = False\n",
    "        for node in G.nodes():\n",
    "            best_community = communities[node]\n",
    "            best_permanence = calculate_permanence(G, communities)\n",
    "\n",
    "            # Check if moving the node to a different community improves permanence\n",
    "            for neighbor in G.neighbors(node):\n",
    "                original_community = communities[node]\n",
    "                communities[node] = communities[neighbor]\n",
    "                new_permanence = calculate_permanence(G, communities)\n",
    "\n",
    "                if new_permanence > best_permanence:\n",
    "                    best_permanence = new_permanence\n",
    "                    best_community = communities[neighbor]\n",
    "                    improved = True\n",
    "                else:\n",
    "                    # Revert the community change if no improvement\n",
    "                    communities[node] = original_community\n",
    "\n",
    "            communities[node] = best_community\n",
    "\n",
    "    return communities\n",
    "\n",
    "communities = genperm_algorithm(G)"
   ]
  },
  {
   "cell_type": "code",
   "execution_count": null,
   "outputs": [],
   "source": [],
   "metadata": {
    "collapsed": false
   },
   "id": "5d001eb3488d4ea7"
  }
 ],
 "metadata": {
  "kernelspec": {
   "display_name": "Python 3",
   "language": "python",
   "name": "python3"
  },
  "language_info": {
   "codemirror_mode": {
    "name": "ipython",
    "version": 2
   },
   "file_extension": ".py",
   "mimetype": "text/x-python",
   "name": "python",
   "nbconvert_exporter": "python",
   "pygments_lexer": "ipython2",
   "version": "2.7.6"
  }
 },
 "nbformat": 4,
 "nbformat_minor": 5
}
