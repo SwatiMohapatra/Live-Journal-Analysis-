{
 "cells": [
  {
   "cell_type": "code",
   "execution_count": null,
   "id": "initial_id",
   "metadata": {
    "collapsed": true,
    "is_executing": true,
    "ExecuteTime": {
     "start_time": "2023-11-20T09:22:52.128503174Z"
    }
   },
   "outputs": [],
   "source": [
    "import networkx as nx\n",
    "import community as community_louvain\n",
    "\n",
    "# Load your network here\n",
    "# G = nx.read_edgelist('./Data/com-lj.ungraph modified.txt')\n",
    "G = nx.read_edgelist('./Data/com-lj.ungraph.txt')\n",
    "\n",
    "# compute the best partition using the Fast Greedy algorithm\n",
    "partition = community_louvain.best_partition(G, resolution = 1., randomize=False)\n",
    "\n",
    "# print the communities\n",
    "communities = {}\n",
    "for node, community in partition.items():\n",
    "    if community not in communities:\n",
    "        communities[community] = []\n",
    "    communities[community].append(node)\n",
    "\n",
    "for community, members in communities.items():\n",
    "    if len(members) >= 3:\n",
    "        print(\"Community\", community)\n",
    "        print(members)"
   ]
  }
 ],
 "metadata": {
  "kernelspec": {
   "display_name": "Python 3",
   "language": "python",
   "name": "python3"
  },
  "language_info": {
   "codemirror_mode": {
    "name": "ipython",
    "version": 2
   },
   "file_extension": ".py",
   "mimetype": "text/x-python",
   "name": "python",
   "nbconvert_exporter": "python",
   "pygments_lexer": "ipython2",
   "version": "2.7.6"
  }
 },
 "nbformat": 4,
 "nbformat_minor": 5
}
