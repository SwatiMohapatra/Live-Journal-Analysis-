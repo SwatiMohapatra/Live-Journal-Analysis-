{
 "cells": [
  {
   "cell_type": "code",
   "execution_count": null,
   "outputs": [],
   "source": [
    "import networkx as nx\n",
    "from networkx.algorithms import community\n",
    "\n",
    "# Load your network here\n",
    "G = nx.read_edgelist('./Data/com-lj.ungraph modified.txt')\n",
    "\n",
    "# compute the communities using the Girvan-Newman algorithm\n",
    "communities_generator = community.girvan_newman(G)\n",
    "\n",
    "# get the first partition of the graph\n",
    "top_level_communities = next(communities_generator)\n",
    "next_level_communities = next(communities_generator)\n",
    "\n",
    "# print the communities\n",
    "for i, community in enumerate(top_level_communities):\n",
    "    print(\"Community\", i)\n",
    "    print(community)\n",
    "\n",
    "for i, community in enumerate(next_level_communities):\n",
    "    print(\"Community\", i)\n",
    "    print(community)\n",
    "\n",
    "# import networkx as nx\n",
    "# from networkx.algorithms.community import girvan_newman\n",
    "# import time\n",
    "# \n",
    "# def read_graph_from_file(file_path):\n",
    "#     # Initialize an empty graph\n",
    "#     G = nx.Graph()\n",
    "# \n",
    "#     # Read the file and add edges to the graph\n",
    "#     with open(r\"./Data/com-lj.ungraph modified.txt\", 'r') as file:\n",
    "#         for line in file:\n",
    "#             # Parse the line for nodes\n",
    "#             node1, node2 = map(int, line.strip().split('\\t'))\n",
    "#             # Add the edge to the graph\n",
    "#             G.add_edge(node1, node2)\n",
    "# \n",
    "#     return G\n",
    "# \n",
    "# def apply_girvan_newman(G):\n",
    "#     # Girvan-Newman algorithm\n",
    "#     communities_generator = girvan_newman(G)\n",
    "# \n",
    "#     all_communities = []\n",
    "#     for communities in communities_generator:\n",
    "#         all_communities.append(tuple(sorted(c) for c in communities))\n",
    "# \n",
    "#     return all_communities\n",
    "# \n",
    "# # Read the graph\n",
    "# G = read_graph_from_file('')\n",
    "# \n",
    "# # Apply the Girvan-Newman algorithm\n",
    "# start_time = time.time()\n",
    "# all_communities = apply_girvan_newman(G)\n",
    "# end_time = time.time()\n",
    "# \n",
    "# # Print the time taken and the communities\n",
    "# print(f\"Time taken: {end_time - start_time} seconds\")\n",
    "# for level, communities in enumerate(all_communities):\n",
    "#     print(f\"Level {level}: {len(communities)} communities\")\n",
    "#     for community in communities:  # print only the first 5 communities for brevity\n",
    "#         print(community)"
   ],
   "metadata": {
    "collapsed": false,
    "is_executing": true,
    "ExecuteTime": {
     "start_time": "2023-11-20T09:05:35.042756605Z"
    }
   },
   "id": "2eeb85edb69afc7d"
  },
  {
   "cell_type": "code",
   "execution_count": null,
   "outputs": [],
   "source": [],
   "metadata": {
    "collapsed": false
   },
   "id": "55c675159b4587ee"
  }
 ],
 "metadata": {
  "kernelspec": {
   "display_name": "Python 3",
   "language": "python",
   "name": "python3"
  },
  "language_info": {
   "codemirror_mode": {
    "name": "ipython",
    "version": 2
   },
   "file_extension": ".py",
   "mimetype": "text/x-python",
   "name": "python",
   "nbconvert_exporter": "python",
   "pygments_lexer": "ipython2",
   "version": "2.7.6"
  }
 },
 "nbformat": 4,
 "nbformat_minor": 5
}
