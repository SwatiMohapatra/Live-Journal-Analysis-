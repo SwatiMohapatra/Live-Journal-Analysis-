{
 "cells": [
  {
   "cell_type": "code",
   "execution_count": 9,
   "outputs": [
    {
     "name": "stdout",
     "output_type": "stream",
     "text": [
      "Community around seed node 86: {'86', '721537'}\n",
      "Community around seed node 721537: {'86', '721537'}\n"
     ]
    }
   ],
   "source": [
    "import snap\n",
    "\n",
    "import networkx as nx\n",
    "\n",
    "# Path to the files\n",
    "top_1000_nodes_file_path = r\"./Data/Top_1000_Nodes.txt\"\n",
    "edge_pairs_file_path = r\"./Data/Filtered_Edge_Pairs.txt\"\n",
    "\n",
    "def read_graph(edge_file):\n",
    "    # Create a new graph\n",
    "    graph = snap.TUNGraph.New()\n",
    "\n",
    "    # Read edges from file\n",
    "    with open(edge_file, 'r') as file:\n",
    "        for line in file:\n",
    "            src, dst = map(int, line.strip().split())\n",
    "            if not graph.IsNode(src):\n",
    "                graph.AddNode(src)\n",
    "            if not graph.IsNode(dst):\n",
    "                graph.AddNode(dst)\n",
    "            graph.AddEdge(src, dst)\n",
    "\n",
    "    return graph\n",
    "\n",
    "def apply_bigclam(graph, num_communities):\n",
    "    # Apply the BigClam community detection algorithm\n",
    "    CmtyV = snap.TCnComV()\n",
    "    modularity = snap.CommunityCNM(graph, CmtyV)\n",
    "    print(len(CmtyV))\n",
    "    for Cmty in CmtyV:\n",
    "        print(\"Community:\")\n",
    "        for NI in Cmty:\n",
    "            print(NI)\n",
    "    print(\"The modularity of the network is %f\" % modularity)\n",
    "\n",
    "# Path to your dataset file\n",
    "edge_file_path =  r\"D:\\Downloads\\SMA\\Meghana filter\\Filtered_Edge_Pairs.txt\"  # Replace with the path to your file\n",
    "\n",
    "# Read the graph from the edge list\n",
    "G = read_graph(edge_file_path)\n",
    "\n",
    "num_communities = 120  # Replace with your expected number of communities\n",
    "apply_bigclam(G, num_communities)"
   ],
   "metadata": {
    "collapsed": false,
    "ExecuteTime": {
     "end_time": "2023-11-20T11:50:28.225603349Z",
     "start_time": "2023-11-20T11:50:28.197184702Z"
    }
   },
   "id": "4dfa9e5dd5dd4ac6"
  }
 ],
 "metadata": {
  "kernelspec": {
   "display_name": "Python 3",
   "language": "python",
   "name": "python3"
  },
  "language_info": {
   "codemirror_mode": {
    "name": "ipython",
    "version": 2
   },
   "file_extension": ".py",
   "mimetype": "text/x-python",
   "name": "python",
   "nbconvert_exporter": "python",
   "pygments_lexer": "ipython2",
   "version": "2.7.6"
  }
 },
 "nbformat": 4,
 "nbformat_minor": 5
}
