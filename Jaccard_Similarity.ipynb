{
 "cells": [
  {
   "cell_type": "markdown",
   "id": "f8e4c3ad",
   "metadata": {},
   "source": [
    "# Jaccard Score for Community Similarity"
   ]
  },
  {
   "cell_type": "code",
   "execution_count": 1,
   "id": "187da370",
   "metadata": {},
   "outputs": [
    {
     "name": "stdout",
     "output_type": "stream",
     "text": [
      "Requirement already satisfied: networkx in c:\\anaconda\\lib\\site-packages (3.2.1)Note: you may need to restart the kernel to use updated packages.\n"
     ]
    }
   ],
   "source": [
    "!pip install networkx"
   ]
  },
  {
   "cell_type": "markdown",
   "id": "cea1b11c",
   "metadata": {},
   "source": [
    "# LPA Community score"
   ]
  },
  {
   "cell_type": "code",
   "execution_count": 2,
   "id": "c60e0d3f",
   "metadata": {},
   "outputs": [
    {
     "name": "stdout",
     "output_type": "stream",
     "text": [
      "Average Jaccard Similarity: 0.7398687258576429\n"
     ]
    }
   ],
   "source": [
    "import networkx as nx\n",
    "def read_communities(file_path):\n",
    "    communities = []\n",
    "    with open(file_path, 'r') as file:\n",
    "        for line in file:\n",
    "            community = set(map(int, line.strip().split('\\t')))\n",
    "            communities.append(community)\n",
    "    return communities\n",
    "\n",
    "def jaccard_similarity(set1, set2):\n",
    "    intersection = len(set1.intersection(set2))\n",
    "    union = len(set1.union(set2))\n",
    "    return intersection / union if union != 0 else 0\n",
    "\n",
    "def compare_communities(detected_communities, reference_communities):\n",
    "    similarities = []\n",
    "    for d_community in detected_communities:\n",
    "        best_match = max([jaccard_similarity(d_community, r_community) for r_community in reference_communities])\n",
    "        similarities.append(best_match)\n",
    "\n",
    "    average_similarity = sum(similarities) / len(similarities) if similarities else 0\n",
    "    return average_similarity\n",
    "\n",
    "detected_communities = read_communities('lpa_communities.txt')\n",
    "reference_communities = read_communities('filtered_community.txt')\n",
    "\n",
    "average_similarity = compare_communities(detected_communities, reference_communities)\n",
    "print(f\"Average Jaccard Similarity: {average_similarity}\")\n"
   ]
  },
  {
   "cell_type": "markdown",
   "id": "8d931f34",
   "metadata": {},
   "source": [
    "# GenPerm Community score"
   ]
  },
  {
   "cell_type": "code",
   "execution_count": 3,
   "id": "a886b5d3",
   "metadata": {},
   "outputs": [
    {
     "name": "stdout",
     "output_type": "stream",
     "text": [
      "Average Jaccard Similarity: 0.8731846016384899\n"
     ]
    }
   ],
   "source": [
    "def read_communities(file_path):\n",
    "    communities = []\n",
    "    with open(file_path, 'r') as file:\n",
    "        for line in file:\n",
    "            community = set(map(int, line.strip().split('\\t')))\n",
    "            communities.append(community)\n",
    "    return communities\n",
    "\n",
    "def jaccard_similarity(set1, set2):\n",
    "    intersection = len(set1.intersection(set2))\n",
    "    union = len(set1.union(set2))\n",
    "    return intersection / union if union != 0 else 0\n",
    "\n",
    "def compare_communities(detected_communities, reference_communities):\n",
    "    similarities = []\n",
    "    for d_community in detected_communities:\n",
    "        best_match = max([jaccard_similarity(d_community, r_community) for r_community in reference_communities])\n",
    "        similarities.append(best_match)\n",
    "\n",
    "    average_similarity = sum(similarities) / len(similarities) if similarities else 0\n",
    "    return average_similarity\n",
    "\n",
    "detected_communities = read_communities('GenPerm_communities.txt')\n",
    "reference_communities = read_communities('filtered_community.txt')\n",
    "\n",
    "average_similarity = compare_communities(detected_communities, reference_communities)\n",
    "print(f\"Average Jaccard Similarity: {average_similarity}\")\n"
   ]
  },
  {
   "cell_type": "markdown",
   "id": "336bbb1b",
   "metadata": {},
   "source": [
    "# SLPA Community score"
   ]
  },
  {
   "cell_type": "code",
   "execution_count": 4,
   "id": "57e38102",
   "metadata": {},
   "outputs": [
    {
     "name": "stdout",
     "output_type": "stream",
     "text": [
      "Average Jaccard Similarity: 0.370207083642164\n"
     ]
    }
   ],
   "source": [
    "def read_communities(file_path):\n",
    "    communities = []\n",
    "    with open(file_path, 'r') as file:\n",
    "        for line in file:\n",
    "            community = set(map(int, line.strip().split('\\t')))\n",
    "            communities.append(community)\n",
    "    return communities\n",
    "\n",
    "def jaccard_similarity(set1, set2):\n",
    "    intersection = len(set1.intersection(set2))\n",
    "    union = len(set1.union(set2))\n",
    "    return intersection / union if union != 0 else 0\n",
    "\n",
    "def compare_communities(detected_communities, reference_communities):\n",
    "    similarities = []\n",
    "    for d_community in detected_communities:\n",
    "        best_match = max([jaccard_similarity(d_community, r_community) for r_community in reference_communities])\n",
    "        similarities.append(best_match)\n",
    "\n",
    "    average_similarity = sum(similarities) / len(similarities) if similarities else 0\n",
    "    return average_similarity\n",
    "\n",
    "detected_communities = read_communities('slpa_communities.txt')\n",
    "reference_communities = read_communities('filtered_community.txt')\n",
    "\n",
    "average_similarity = compare_communities(detected_communities, reference_communities)\n",
    "print(f\"Average Jaccard Similarity: {average_similarity}\")\n"
   ]
  },
  {
   "cell_type": "markdown",
   "id": "6131c8c2",
   "metadata": {},
   "source": [
    "# BigClam Community score"
   ]
  },
  {
   "cell_type": "code",
   "execution_count": 5,
   "id": "3281aa50",
   "metadata": {},
   "outputs": [
    {
     "name": "stdout",
     "output_type": "stream",
     "text": [
      "Average Jaccard Similarity: 0.8475560637383998\n"
     ]
    }
   ],
   "source": [
    "def read_communities(file_path):\n",
    "    communities = []\n",
    "    with open(file_path, 'r') as file:\n",
    "        for line in file:\n",
    "            community = set(map(int, line.strip().split('\\t')))\n",
    "            communities.append(community)\n",
    "    return communities\n",
    "\n",
    "def jaccard_similarity(set1, set2):\n",
    "    intersection = len(set1.intersection(set2))\n",
    "    union = len(set1.union(set2))\n",
    "    return intersection / union if union != 0 else 0\n",
    "\n",
    "def compare_communities(detected_communities, reference_communities):\n",
    "    similarities = []\n",
    "    for d_community in detected_communities:\n",
    "        best_match = max([jaccard_similarity(d_community, r_community) for r_community in reference_communities])\n",
    "        similarities.append(best_match)\n",
    "\n",
    "    average_similarity = sum(similarities) / len(similarities) if similarities else 0\n",
    "    return average_similarity\n",
    "\n",
    "detected_communities = read_communities('Big Clam Output.txt')\n",
    "reference_communities = read_communities('filtered_community.txt')\n",
    "\n",
    "average_similarity = compare_communities(detected_communities, reference_communities)\n",
    "print(f\"Average Jaccard Similarity: {average_similarity}\")\n"
   ]
  },
  {
   "cell_type": "markdown",
   "id": "a2e1d7b0",
   "metadata": {},
   "source": [
    "# k-Clique Percolation Community score"
   ]
  },
  {
   "cell_type": "code",
   "execution_count": 6,
   "id": "4de93f0f",
   "metadata": {},
   "outputs": [
    {
     "name": "stdout",
     "output_type": "stream",
     "text": [
      "Average Jaccard Similarity: 0.9510013489915736\n"
     ]
    }
   ],
   "source": [
    "def read_communities(file_path):\n",
    "    communities = []\n",
    "    with open(file_path, 'r') as file:\n",
    "        for line in file:\n",
    "            community = set(map(int, line.strip().split('\\t')))\n",
    "            communities.append(community)\n",
    "    return communities\n",
    "\n",
    "def jaccard_similarity(set1, set2):\n",
    "    intersection = len(set1.intersection(set2))\n",
    "    union = len(set1.union(set2))\n",
    "    return intersection / union if union != 0 else 0\n",
    "\n",
    "def compare_communities(detected_communities, reference_communities):\n",
    "    similarities = []\n",
    "    for d_community in detected_communities:\n",
    "        best_match = max([jaccard_similarity(d_community, r_community) for r_community in reference_communities])\n",
    "        similarities.append(best_match)\n",
    "\n",
    "    average_similarity = sum(similarities) / len(similarities) if similarities else 0\n",
    "    return average_similarity\n",
    "\n",
    "detected_communities = read_communities('Clique_communities.txt')\n",
    "reference_communities = read_communities('filtered_community.txt')\n",
    "\n",
    "average_similarity = compare_communities(detected_communities, reference_communities)\n",
    "print(f\"Average Jaccard Similarity: {average_similarity}\")\n"
   ]
  }
 ],
 "metadata": {
  "kernelspec": {
   "display_name": "Python 3 (ipykernel)",
   "language": "python",
   "name": "python3"
  },
  "language_info": {
   "codemirror_mode": {
    "name": "ipython",
    "version": 3
   },
   "file_extension": ".py",
   "mimetype": "text/x-python",
   "name": "python",
   "nbconvert_exporter": "python",
   "pygments_lexer": "ipython3",
   "version": "3.9.13"
  }
 },
 "nbformat": 4,
 "nbformat_minor": 5
}
