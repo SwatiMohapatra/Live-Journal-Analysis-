{
 "cells": [
  {
   "cell_type": "code",
   "execution_count": null,
   "id": "initial_id",
   "metadata": {
    "collapsed": true
   },
   "outputs": [],
   "source": [
    "def read_communities(file_path):\n",
    "    communities = []\n",
    "    with open(file_path, 'r') as file:\n",
    "        for line in file:\n",
    "            # Assuming each line is a list of node IDs separated by a tab\n",
    "            community = set(map(int, line.strip().split('\\t')))\n",
    "            communities.append(community)\n",
    "    return communities\n",
    "\n",
    "def jaccard_similarity(set1, set2):\n",
    "    intersection = len(set1.intersection(set2))\n",
    "    union = len(set1.union(set2))\n",
    "    return intersection / union if union != 0 else 0\n",
    "\n",
    "def compare_communities(detected_communities, reference_communities):\n",
    "    # Compare each detected community with each reference community\n",
    "    # and find the best match (max Jaccard similarity)\n",
    "    similarities = []\n",
    "    for d_community in detected_communities:\n",
    "        best_match = max([jaccard_similarity(d_community, r_community) for r_community in reference_communities])\n",
    "        similarities.append(best_match)\n",
    "\n",
    "    average_similarity = sum(similarities) / len(similarities) if similarities else 0\n",
    "    return average_similarity\n",
    "\n",
    "# Load your detected and reference communities\n",
    "detected_communities = read_communities('./Data/GenPerm_communities.txt')\n",
    "reference_communities = read_communities('./Data/filtered_community.txt')\n",
    "\n",
    "# Calculate the average Jaccard similarity\n",
    "average_similarity = compare_communities(detected_communities, reference_communities)\n",
    "print(f\"Average Jaccard Similarity: {average_similarity}\")"
   ]
  }
 ],
 "metadata": {
  "kernelspec": {
   "display_name": "Python 3",
   "language": "python",
   "name": "python3"
  },
  "language_info": {
   "codemirror_mode": {
    "name": "ipython",
    "version": 2
   },
   "file_extension": ".py",
   "mimetype": "text/x-python",
   "name": "python",
   "nbconvert_exporter": "python",
   "pygments_lexer": "ipython2",
   "version": "2.7.6"
  }
 },
 "nbformat": 4,
 "nbformat_minor": 5
}
